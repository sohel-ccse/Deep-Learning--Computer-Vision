{
  "nbformat": 4,
  "nbformat_minor": 0,
  "metadata": {
    "colab": {
      "name": "NLP -distilbert_fine_tuning_Cola_classification",
      "provenance": []
    },
    "kernelspec": {
      "name": "python3",
      "display_name": "Python 3"
    },
    "accelerator": "GPU"
  },
  "cells": [
    {
      "cell_type": "code",
      "metadata": {
        "id": "UTPMWGhBY6aV"
      },
      "source": [
        "import torch\r\n",
        "import pandas as pd"
      ],
      "execution_count": 33,
      "outputs": []
    },
    {
      "cell_type": "code",
      "metadata": {
        "colab": {
          "base_uri": "https://localhost:8080/"
        },
        "id": "rc9M3utHkxUw",
        "outputId": "8f78d81e-3e54-4a37-febc-fb6e667ce3a0"
      },
      "source": [
        "def check_gpu_set_device():\r\n",
        "    try:\r\n",
        "        if torch.cuda.is_available:\r\n",
        "          print ('Number of GPUs is :',torch.cuda.device_count())\r\n",
        "          print ('Name of GPU is :', torch.cuda.get_device_name())\r\n",
        "          device = torch.device(\"cuda\")\r\n",
        "        else:\r\n",
        "          device = torch.device(\"cpu\")\r\n",
        "    except : \r\n",
        "        print ('Exception occured while checking for GPU support..')\r\n",
        "        device = torch.device(\"cpu\")\r\n",
        "    \r\n",
        "    return device\r\n",
        "\r\n",
        "device = check_gpu_set_device()"
      ],
      "execution_count": 34,
      "outputs": [
        {
          "output_type": "stream",
          "text": [
            "Number of GPUs is : 1\n",
            "Name of GPU is : Tesla T4\n"
          ],
          "name": "stdout"
        }
      ]
    },
    {
      "cell_type": "code",
      "metadata": {
        "colab": {
          "base_uri": "https://localhost:8080/"
        },
        "id": "VTxi1dq_k54W",
        "outputId": "a1373670-81cf-40e5-ff12-01c3a7dfc226"
      },
      "source": [
        "!pip install transformers"
      ],
      "execution_count": 35,
      "outputs": [
        {
          "output_type": "stream",
          "text": [
            "Requirement already satisfied: transformers in /usr/local/lib/python3.6/dist-packages (4.3.2)\n",
            "Requirement already satisfied: dataclasses; python_version < \"3.7\" in /usr/local/lib/python3.6/dist-packages (from transformers) (0.8)\n",
            "Requirement already satisfied: regex!=2019.12.17 in /usr/local/lib/python3.6/dist-packages (from transformers) (2019.12.20)\n",
            "Requirement already satisfied: numpy>=1.17 in /usr/local/lib/python3.6/dist-packages (from transformers) (1.19.5)\n",
            "Requirement already satisfied: sacremoses in /usr/local/lib/python3.6/dist-packages (from transformers) (0.0.43)\n",
            "Requirement already satisfied: tqdm>=4.27 in /usr/local/lib/python3.6/dist-packages (from transformers) (4.41.1)\n",
            "Requirement already satisfied: importlib-metadata; python_version < \"3.8\" in /usr/local/lib/python3.6/dist-packages (from transformers) (3.4.0)\n",
            "Requirement already satisfied: packaging in /usr/local/lib/python3.6/dist-packages (from transformers) (20.9)\n",
            "Requirement already satisfied: requests in /usr/local/lib/python3.6/dist-packages (from transformers) (2.23.0)\n",
            "Requirement already satisfied: tokenizers<0.11,>=0.10.1 in /usr/local/lib/python3.6/dist-packages (from transformers) (0.10.1)\n",
            "Requirement already satisfied: filelock in /usr/local/lib/python3.6/dist-packages (from transformers) (3.0.12)\n",
            "Requirement already satisfied: six in /usr/local/lib/python3.6/dist-packages (from sacremoses->transformers) (1.15.0)\n",
            "Requirement already satisfied: joblib in /usr/local/lib/python3.6/dist-packages (from sacremoses->transformers) (1.0.0)\n",
            "Requirement already satisfied: click in /usr/local/lib/python3.6/dist-packages (from sacremoses->transformers) (7.1.2)\n",
            "Requirement already satisfied: typing-extensions>=3.6.4; python_version < \"3.8\" in /usr/local/lib/python3.6/dist-packages (from importlib-metadata; python_version < \"3.8\"->transformers) (3.7.4.3)\n",
            "Requirement already satisfied: zipp>=0.5 in /usr/local/lib/python3.6/dist-packages (from importlib-metadata; python_version < \"3.8\"->transformers) (3.4.0)\n",
            "Requirement already satisfied: pyparsing>=2.0.2 in /usr/local/lib/python3.6/dist-packages (from packaging->transformers) (2.4.7)\n",
            "Requirement already satisfied: chardet<4,>=3.0.2 in /usr/local/lib/python3.6/dist-packages (from requests->transformers) (3.0.4)\n",
            "Requirement already satisfied: idna<3,>=2.5 in /usr/local/lib/python3.6/dist-packages (from requests->transformers) (2.10)\n",
            "Requirement already satisfied: urllib3!=1.25.0,!=1.25.1,<1.26,>=1.21.1 in /usr/local/lib/python3.6/dist-packages (from requests->transformers) (1.24.3)\n",
            "Requirement already satisfied: certifi>=2017.4.17 in /usr/local/lib/python3.6/dist-packages (from requests->transformers) (2020.12.5)\n"
          ],
          "name": "stdout"
        }
      ]
    },
    {
      "cell_type": "code",
      "metadata": {
        "colab": {
          "base_uri": "https://localhost:8080/"
        },
        "id": "mQ3_5FYjlCqj",
        "outputId": "aa58b810-414b-4e15-f0c3-e85ca35aef9c"
      },
      "source": [
        "!pip install wget"
      ],
      "execution_count": 36,
      "outputs": [
        {
          "output_type": "stream",
          "text": [
            "Requirement already satisfied: wget in /usr/local/lib/python3.6/dist-packages (3.2)\n"
          ],
          "name": "stdout"
        }
      ]
    },
    {
      "cell_type": "code",
      "metadata": {
        "colab": {
          "base_uri": "https://localhost:8080/",
          "height": 35
        },
        "id": "RujIAflmlIMY",
        "outputId": "bcff9343-6f77-4af2-abf9-ba83323c71c8"
      },
      "source": [
        "# download cola dataset\r\n",
        "import wget\r\n",
        "import os\r\n",
        "\r\n",
        "wget.download('https://nyu-mll.github.io/CoLA/cola_public_1.1.zip')\r\n",
        "#!unzip cola_public_1.1.zip -d ."
      ],
      "execution_count": 37,
      "outputs": [
        {
          "output_type": "execute_result",
          "data": {
            "application/vnd.google.colaboratory.intrinsic+json": {
              "type": "string"
            },
            "text/plain": [
              "'cola_public_1.1 (1).zip'"
            ]
          },
          "metadata": {
            "tags": []
          },
          "execution_count": 37
        }
      ]
    },
    {
      "cell_type": "code",
      "metadata": {
        "colab": {
          "base_uri": "https://localhost:8080/"
        },
        "id": "pczFjVC1nQnK",
        "outputId": "184eacf5-ecee-452e-c7a2-b4b08197c7e6"
      },
      "source": [
        "!unzip cola_public_1.1.zip -d ."
      ],
      "execution_count": 38,
      "outputs": [
        {
          "output_type": "stream",
          "text": [
            "Archive:  cola_public_1.1.zip\n",
            "replace ./cola_public/README? [y]es, [n]o, [A]ll, [N]one, [r]ename: y\n",
            "  inflating: ./cola_public/README    \n",
            "replace ./cola_public/tokenized/in_domain_dev.tsv? [y]es, [n]o, [A]ll, [N]one, [r]ename: y\n",
            "  inflating: ./cola_public/tokenized/in_domain_dev.tsv  \n",
            "replace ./cola_public/tokenized/in_domain_train.tsv? [y]es, [n]o, [A]ll, [N]one, [r]ename: y\n",
            "  inflating: ./cola_public/tokenized/in_domain_train.tsv  \n",
            "replace ./cola_public/tokenized/out_of_domain_dev.tsv? [y]es, [n]o, [A]ll, [N]one, [r]ename: y\n",
            "  inflating: ./cola_public/tokenized/out_of_domain_dev.tsv  \n",
            "replace ./cola_public/raw/in_domain_dev.tsv? [y]es, [n]o, [A]ll, [N]one, [r]ename: y\n",
            "  inflating: ./cola_public/raw/in_domain_dev.tsv  \n",
            "replace ./cola_public/raw/in_domain_train.tsv? [y]es, [n]o, [A]ll, [N]one, [r]ename: y\n",
            "  inflating: ./cola_public/raw/in_domain_train.tsv  \n",
            "replace ./cola_public/raw/out_of_domain_dev.tsv? [y]es, [n]o, [A]ll, [N]one, [r]ename: y\n",
            "  inflating: ./cola_public/raw/out_of_domain_dev.tsv  \n"
          ],
          "name": "stdout"
        }
      ]
    },
    {
      "cell_type": "code",
      "metadata": {
        "colab": {
          "base_uri": "https://localhost:8080/"
        },
        "id": "5Cb3NPFNnu2e",
        "outputId": "74e0a7f1-0e67-466e-ebbc-054738377a98"
      },
      "source": [
        "!ls"
      ],
      "execution_count": 39,
      "outputs": [
        {
          "output_type": "stream",
          "text": [
            " cola_public\t\t    cola_public_1.1.zip     output_dir\n",
            "'cola_public_1.1 (1).zip'   distil-bert-vocab.txt   sample_data\n"
          ],
          "name": "stdout"
        }
      ]
    },
    {
      "cell_type": "code",
      "metadata": {
        "id": "GF1gHzNSnv7h"
      },
      "source": [
        ""
      ],
      "execution_count": 39,
      "outputs": []
    },
    {
      "cell_type": "code",
      "metadata": {
        "id": "So-c28AOnVlU"
      },
      "source": [
        "\r\n",
        "#load cola dataset in dataframe\r\n",
        "df = pd.read_csv('/content/cola_public/raw/in_domain_train.tsv', delimiter='\\t', header=None, names=['A','label','B','sentence'])"
      ],
      "execution_count": 40,
      "outputs": []
    },
    {
      "cell_type": "code",
      "metadata": {
        "colab": {
          "base_uri": "https://localhost:8080/",
          "height": 195
        },
        "id": "KEXyot_AnfVe",
        "outputId": "dd57c4e5-84bf-4eff-c413-0ebbe9c9b484"
      },
      "source": [
        "df.head()"
      ],
      "execution_count": 41,
      "outputs": [
        {
          "output_type": "execute_result",
          "data": {
            "text/html": [
              "<div>\n",
              "<style scoped>\n",
              "    .dataframe tbody tr th:only-of-type {\n",
              "        vertical-align: middle;\n",
              "    }\n",
              "\n",
              "    .dataframe tbody tr th {\n",
              "        vertical-align: top;\n",
              "    }\n",
              "\n",
              "    .dataframe thead th {\n",
              "        text-align: right;\n",
              "    }\n",
              "</style>\n",
              "<table border=\"1\" class=\"dataframe\">\n",
              "  <thead>\n",
              "    <tr style=\"text-align: right;\">\n",
              "      <th></th>\n",
              "      <th>A</th>\n",
              "      <th>label</th>\n",
              "      <th>B</th>\n",
              "      <th>sentence</th>\n",
              "    </tr>\n",
              "  </thead>\n",
              "  <tbody>\n",
              "    <tr>\n",
              "      <th>0</th>\n",
              "      <td>gj04</td>\n",
              "      <td>1</td>\n",
              "      <td>NaN</td>\n",
              "      <td>Our friends won't buy this analysis, let alone...</td>\n",
              "    </tr>\n",
              "    <tr>\n",
              "      <th>1</th>\n",
              "      <td>gj04</td>\n",
              "      <td>1</td>\n",
              "      <td>NaN</td>\n",
              "      <td>One more pseudo generalization and I'm giving up.</td>\n",
              "    </tr>\n",
              "    <tr>\n",
              "      <th>2</th>\n",
              "      <td>gj04</td>\n",
              "      <td>1</td>\n",
              "      <td>NaN</td>\n",
              "      <td>One more pseudo generalization or I'm giving up.</td>\n",
              "    </tr>\n",
              "    <tr>\n",
              "      <th>3</th>\n",
              "      <td>gj04</td>\n",
              "      <td>1</td>\n",
              "      <td>NaN</td>\n",
              "      <td>The more we study verbs, the crazier they get.</td>\n",
              "    </tr>\n",
              "    <tr>\n",
              "      <th>4</th>\n",
              "      <td>gj04</td>\n",
              "      <td>1</td>\n",
              "      <td>NaN</td>\n",
              "      <td>Day by day the facts are getting murkier.</td>\n",
              "    </tr>\n",
              "  </tbody>\n",
              "</table>\n",
              "</div>"
            ],
            "text/plain": [
              "      A  label    B                                           sentence\n",
              "0  gj04      1  NaN  Our friends won't buy this analysis, let alone...\n",
              "1  gj04      1  NaN  One more pseudo generalization and I'm giving up.\n",
              "2  gj04      1  NaN   One more pseudo generalization or I'm giving up.\n",
              "3  gj04      1  NaN     The more we study verbs, the crazier they get.\n",
              "4  gj04      1  NaN          Day by day the facts are getting murkier."
            ]
          },
          "metadata": {
            "tags": []
          },
          "execution_count": 41
        }
      ]
    },
    {
      "cell_type": "code",
      "metadata": {
        "id": "cj2PGOr2otnc"
      },
      "source": [
        "labels = df.label.values\r\n",
        "sentences = df.sentence.values"
      ],
      "execution_count": 42,
      "outputs": []
    },
    {
      "cell_type": "code",
      "metadata": {
        "colab": {
          "base_uri": "https://localhost:8080/"
        },
        "id": "tzB9aDBfpgds",
        "outputId": "2587e3d2-fd75-41e9-d0a5-fbd5c3532fbe"
      },
      "source": [
        "print ('Number of sentences is ', len(sentences))\r\n",
        "print ('Number of labels is ', len(labels))"
      ],
      "execution_count": 43,
      "outputs": [
        {
          "output_type": "stream",
          "text": [
            "Number of sentences is  8551\n",
            "Number of labels is  8551\n"
          ],
          "name": "stdout"
        }
      ]
    },
    {
      "cell_type": "code",
      "metadata": {
        "colab": {
          "base_uri": "https://localhost:8080/"
        },
        "id": "ZNiay96apl0N",
        "outputId": "6765f8a4-4921-4ba4-ffe6-d56f358b6ff2"
      },
      "source": [
        "print ('max length of input sentence is:',max([len(s) for s in sentences]))"
      ],
      "execution_count": 44,
      "outputs": [
        {
          "output_type": "stream",
          "text": [
            "max length of input sentence is: 231\n"
          ],
          "name": "stdout"
        }
      ]
    },
    {
      "cell_type": "code",
      "metadata": {
        "colab": {
          "base_uri": "https://localhost:8080/"
        },
        "id": "xv9eQzdWp_00",
        "outputId": "e9f4da9c-3e9e-4c1f-a2f2-01ce1cac25de"
      },
      "source": [
        "# Tokenization for BERT\r\n",
        "from transformers import DistilBertTokenizer\r\n",
        "tokenizer = DistilBertTokenizer.from_pretrained('distilbert-base-uncased')\r\n",
        "\r\n",
        "# print out the special tokens for [CLS], [SEP] and [MASK]\r\n",
        "with open('distil-bert-vocab.txt','w') as f:\r\n",
        "    for k,v in tokenizer.vocab.items():\r\n",
        "        if v==100 or v==101 or v==102 or v==103:\r\n",
        "          print (k,v)\r\n",
        "\r\n",
        "input_sentences = []\r\n",
        "\r\n",
        "for s in sentences:\r\n",
        "  encoded = tokenizer.encode(s, \r\n",
        "                             add_special_tokens=True, \r\n",
        "                             max_length=64, \r\n",
        "                             pad_to_max_length=True)\r\n",
        "  input_sentences.append(encoded)\r\n",
        "\r\n",
        "assert len(input_sentences)==len(sentences)"
      ],
      "execution_count": 45,
      "outputs": [
        {
          "output_type": "stream",
          "text": [
            "Truncation was not explicitly activated but `max_length` is provided a specific value, please use `truncation=True` to explicitly truncate examples to max length. Defaulting to 'longest_first' truncation strategy. If you encode pairs of sequences (GLUE-style) with the tokenizer you can select this strategy more precisely by providing a specific strategy to `truncation`.\n"
          ],
          "name": "stderr"
        },
        {
          "output_type": "stream",
          "text": [
            "[UNK] 100\n",
            "[CLS] 101\n",
            "[SEP] 102\n",
            "[MASK] 103\n"
          ],
          "name": "stdout"
        },
        {
          "output_type": "stream",
          "text": [
            "/usr/local/lib/python3.6/dist-packages/transformers/tokenization_utils_base.py:2155: FutureWarning: The `pad_to_max_length` argument is deprecated and will be removed in a future version, use `padding=True` or `padding='longest'` to pad to the longest sequence in the batch, or use `padding='max_length'` to pad to a max length. In this case, you can give a specific length with `max_length` (e.g. `max_length=45`) or leave max_length to None to pad to the maximal input size of the model (e.g. 512 for Bert).\n",
            "  FutureWarning,\n"
          ],
          "name": "stderr"
        }
      ]
    },
    {
      "cell_type": "code",
      "metadata": {
        "colab": {
          "base_uri": "https://localhost:8080/"
        },
        "id": "xrmQlmHNqn1b",
        "outputId": "5a585aee-3a72-48ab-943f-55cf0590c577"
      },
      "source": [
        "print (input_sentences[100])"
      ],
      "execution_count": 46,
      "outputs": [
        {
          "output_type": "stream",
          "text": [
            "[101, 2065, 2017, 4521, 2062, 1010, 2017, 2215, 7978, 2135, 2625, 1012, 102, 0, 0, 0, 0, 0, 0, 0, 0, 0, 0, 0, 0, 0, 0, 0, 0, 0, 0, 0, 0, 0, 0, 0, 0, 0, 0, 0, 0, 0, 0, 0, 0, 0, 0, 0, 0, 0, 0, 0, 0, 0, 0, 0, 0, 0, 0, 0, 0, 0, 0, 0]\n"
          ],
          "name": "stdout"
        }
      ]
    },
    {
      "cell_type": "code",
      "metadata": {
        "colab": {
          "base_uri": "https://localhost:8080/"
        },
        "id": "4xbuO-0OtcNz",
        "outputId": "1ebebc55-2c6b-440c-99c9-b86b30a6e58f"
      },
      "source": [
        "# create attention mark \r\n",
        "attention_masks = []\r\n",
        "\r\n",
        "for s in input_sentences:\r\n",
        "  a_mask = []\r\n",
        "  for t in s:\r\n",
        "    if t>0:\r\n",
        "      a_mask.append(1)\r\n",
        "    else:\r\n",
        "      a_mask.append(0)      \r\n",
        "  attention_masks.append(a_mask)\r\n",
        "\r\n",
        "print (attention_masks[0])\r\n",
        "print (input_sentences[0])\r\n",
        "\r\n",
        "print (len(attention_masks))\r\n",
        "print (len(labels))\r\n",
        "print (len(input_sentences))"
      ],
      "execution_count": 47,
      "outputs": [
        {
          "output_type": "stream",
          "text": [
            "[1, 1, 1, 1, 1, 1, 1, 1, 1, 1, 1, 1, 1, 1, 1, 1, 1, 1, 1, 0, 0, 0, 0, 0, 0, 0, 0, 0, 0, 0, 0, 0, 0, 0, 0, 0, 0, 0, 0, 0, 0, 0, 0, 0, 0, 0, 0, 0, 0, 0, 0, 0, 0, 0, 0, 0, 0, 0, 0, 0, 0, 0, 0, 0]\n",
            "[101, 2256, 2814, 2180, 1005, 1056, 4965, 2023, 4106, 1010, 2292, 2894, 1996, 2279, 2028, 2057, 16599, 1012, 102, 0, 0, 0, 0, 0, 0, 0, 0, 0, 0, 0, 0, 0, 0, 0, 0, 0, 0, 0, 0, 0, 0, 0, 0, 0, 0, 0, 0, 0, 0, 0, 0, 0, 0, 0, 0, 0, 0, 0, 0, 0, 0, 0, 0, 0]\n",
            "8551\n",
            "8551\n",
            "8551\n"
          ],
          "name": "stdout"
        }
      ]
    },
    {
      "cell_type": "code",
      "metadata": {
        "id": "g354lV7ytm28"
      },
      "source": [
        "\r\n",
        "#split data in test and trian\r\n",
        "from sklearn.model_selection import train_test_split\r\n",
        "\r\n",
        "train_inputs, validation_inputs, train_labels, validation_labels = train_test_split(input_sentences, labels, test_size=0.1, random_state=42)\r\n",
        "train_mask, validation_mask, _,_ = train_test_split(attention_masks, labels, random_state=42, test_size=0.1)"
      ],
      "execution_count": 48,
      "outputs": []
    },
    {
      "cell_type": "code",
      "metadata": {
        "id": "RS3Pzuzbtya2"
      },
      "source": [
        "# Convert data to Pytorch format\r\n",
        "train_inputs = torch.tensor(train_inputs)\r\n",
        "validation_inputs = torch.tensor(validation_inputs)\r\n",
        "\r\n",
        "train_labels = torch.tensor(train_labels)\r\n",
        "validation_labels = torch.tensor(validation_labels)\r\n",
        "\r\n",
        "train_mask = torch.tensor(train_mask)\r\n",
        "validation_mask = torch.tensor(validation_mask)"
      ],
      "execution_count": 49,
      "outputs": []
    },
    {
      "cell_type": "code",
      "metadata": {
        "id": "HZa0pRuPt1RZ"
      },
      "source": [
        "\r\n",
        "# create dataloaders for loading data in batches\r\n",
        "from torch.utils.data import DataLoader, RandomSampler, TensorDataset, SequentialSampler\r\n",
        "\r\n",
        "# create training dataloader\r\n",
        "train_data = TensorDataset(train_inputs, train_mask, train_labels)\r\n",
        "train_sampler = RandomSampler(train_data)\r\n",
        "train_dataloader = DataLoader(train_data, sampler=train_sampler, batch_size=32)\r\n",
        "\r\n",
        "# create validation dataloader\r\n",
        "validation_data = TensorDataset(validation_inputs, validation_mask, validation_labels)\r\n",
        "validation_sampler = SequentialSampler(validation_data)\r\n",
        "validation_dataloader = DataLoader(validation_data, sampler=validation_sampler, batch_size=32)"
      ],
      "execution_count": 50,
      "outputs": []
    },
    {
      "cell_type": "code",
      "metadata": {
        "colab": {
          "base_uri": "https://localhost:8080/"
        },
        "id": "giq2w6KXt4Vw",
        "outputId": "c9e30985-8e42-4716-90d1-b5d2b4864893"
      },
      "source": [
        "\r\n",
        "# Train our classification model\r\n",
        "from transformers import DistilBertForSequenceClassification\r\n",
        "\r\n",
        "model = DistilBertForSequenceClassification.from_pretrained('distilbert-base-uncased',\r\n",
        "                                                      num_labels=2,\r\n",
        "                                                      output_hidden_states=False,\r\n",
        "                                                      output_attentions=False\r\n",
        "                                                      )\r\n",
        "try:\r\n",
        "    model.cuda()\r\n",
        "except:\r\n",
        "    print ('torch not compiled with cuda, ignoring.')"
      ],
      "execution_count": 51,
      "outputs": [
        {
          "output_type": "stream",
          "text": [
            "Some weights of the model checkpoint at distilbert-base-uncased were not used when initializing DistilBertForSequenceClassification: ['vocab_transform.weight', 'vocab_transform.bias', 'vocab_layer_norm.weight', 'vocab_layer_norm.bias', 'vocab_projector.weight', 'vocab_projector.bias']\n",
            "- This IS expected if you are initializing DistilBertForSequenceClassification from the checkpoint of a model trained on another task or with another architecture (e.g. initializing a BertForSequenceClassification model from a BertForPreTraining model).\n",
            "- This IS NOT expected if you are initializing DistilBertForSequenceClassification from the checkpoint of a model that you expect to be exactly identical (initializing a BertForSequenceClassification model from a BertForSequenceClassification model).\n",
            "Some weights of DistilBertForSequenceClassification were not initialized from the model checkpoint at distilbert-base-uncased and are newly initialized: ['pre_classifier.weight', 'pre_classifier.bias', 'classifier.weight', 'classifier.bias']\n",
            "You should probably TRAIN this model on a down-stream task to be able to use it for predictions and inference.\n"
          ],
          "name": "stderr"
        }
      ]
    },
    {
      "cell_type": "code",
      "metadata": {
        "colab": {
          "base_uri": "https://localhost:8080/"
        },
        "id": "uH4dBRnnt7sR",
        "outputId": "5bf63702-f16d-4164-c3a2-1c02cb59be9d"
      },
      "source": [
        "\r\n",
        "from transformers import AdamW\r\n",
        "from transformers import get_linear_schedule_with_warmup\r\n",
        "\r\n",
        "epochs = 2\r\n",
        "total_steps = len(train_dataloader)*epochs\r\n",
        "print ('Total number of steps are:', total_steps)\r\n",
        "\r\n",
        "optimizer = AdamW(model.parameters(),\r\n",
        "                  lr = 5e-5,\r\n",
        "                  eps = 1e-7)\r\n",
        "\r\n",
        "scheduler = get_linear_schedule_with_warmup(optimizer,\r\n",
        "                                            num_warmup_steps=0,\r\n",
        "                                            num_training_steps=total_steps\r\n",
        "                                            )"
      ],
      "execution_count": 52,
      "outputs": [
        {
          "output_type": "stream",
          "text": [
            "Total number of steps are: 482\n"
          ],
          "name": "stdout"
        }
      ]
    },
    {
      "cell_type": "code",
      "metadata": {
        "id": "xKc0emCKuFrT"
      },
      "source": [
        "import time\r\n",
        "import datetime\r\n",
        "\r\n",
        "def format_time(elapsed):\r\n",
        "    '''\r\n",
        "    Takes a time in seconds and returns a string hh:mm:ss\r\n",
        "    '''\r\n",
        "    # Round to the nearest second.\r\n",
        "    elapsed_rounded = int(round((elapsed)))\r\n",
        "    \r\n",
        "    # Format as hh:mm:ssye\r\n",
        "    return str(datetime.timedelta(seconds=elapsed_rounded))"
      ],
      "execution_count": 53,
      "outputs": []
    },
    {
      "cell_type": "code",
      "metadata": {
        "id": "Fm3xjHhFuJNs"
      },
      "source": [
        "import numpy as np\r\n",
        "\r\n",
        "# Function to calculate the accuracy of our predictions vs labels\r\n",
        "def flat_accuracy(preds, labels):\r\n",
        "    pred_flat = np.argmax(preds, axis=1).flatten()\r\n",
        "    labels_flat = labels.flatten()\r\n",
        "    return np.sum(pred_flat == labels_flat) / len(labels_flat)"
      ],
      "execution_count": 54,
      "outputs": []
    },
    {
      "cell_type": "code",
      "metadata": {
        "colab": {
          "base_uri": "https://localhost:8080/"
        },
        "id": "7UBcyZW5uMEJ",
        "outputId": "e2db1c29-e1d0-4055-c259-5662e0d39a78"
      },
      "source": [
        "# Training \r\n",
        "import time\r\n",
        "import numpy as np\r\n",
        "import random\r\n",
        "\r\n",
        "# Set the seed value all over the place to make this reproducible.\r\n",
        "seed_val = 42\r\n",
        "\r\n",
        "random.seed(seed_val)\r\n",
        "np.random.seed(seed_val)\r\n",
        "torch.manual_seed(seed_val)\r\n",
        "torch.cuda.manual_seed_all(seed_val)\r\n",
        "\r\n",
        "loss_values = []\r\n",
        "validation_accuracy_values = []\r\n",
        "\r\n",
        "for epoch_num in range (0, epochs):\r\n",
        "\r\n",
        "  print ('-----------------------')\r\n",
        "  print ('-------Training--------')\r\n",
        "  print ('-----------------------')\r\n",
        "  \r\n",
        "  print ('==========Epoch {:}/{:}============='.format(epoch_num+1, epochs))\r\n",
        "  \r\n",
        "  t0 = time.time()\r\n",
        "  total_loss = 0\r\n",
        "\r\n",
        "  #put model in training mode\r\n",
        "  model.train()\r\n",
        "\r\n",
        "  # for each batch of training data\r\n",
        "  for step, batch in enumerate (train_dataloader):\r\n",
        "\r\n",
        "    # report progress after every 100 steps\r\n",
        "    if (step % 50==0):\r\n",
        "      elapsedTime = time.time()-t0\r\n",
        "      print ('\\tBatch {:}/{:} in progress'.format(step, len(train_dataloader)))\r\n",
        "\r\n",
        "    b_input_ids = batch[0].to(device)\r\n",
        "    b_attention_ids = batch[1].to(device)\r\n",
        "    b_labels = batch[2].to(device)\r\n",
        "\r\n",
        "    #clear all previous gradients\r\n",
        "    model.zero_grad()\r\n",
        "\r\n",
        "    #we get loss in outputs\r\n",
        "    outputs = model(b_input_ids,\r\n",
        "                    attention_mask=b_attention_ids,\r\n",
        "                    labels=b_labels)\r\n",
        "    \r\n",
        "    loss = outputs[0]\r\n",
        "    total_loss+=loss.item()\r\n",
        "\r\n",
        "    #this is where backpropogation happens\r\n",
        "    loss.backward()\r\n",
        "\r\n",
        "    torch.nn.utils.clip_grad_norm_(model.parameters(),1.0)\r\n",
        "    optimizer.step()\r\n",
        "    scheduler.step()\r\n",
        "  \r\n",
        "  average_loss = total_loss / len(train_dataloader)\r\n",
        "  loss_values.append(average_loss)\r\n",
        "\r\n",
        "  print ('')\r\n",
        "  print ('\\tAverage training loss {0:.2f}'.format(average_loss))\r\n",
        "  print ('\\tEpoch training time {:}'.format(format_time(time.time()-t0)))\r\n",
        "\r\n",
        "  print ('\\t-----------------------')\r\n",
        "  print ('\\t-------Validation--------')\r\n",
        "  print ('\\t-----------------------')\r\n",
        "\r\n",
        "  model.eval()\r\n",
        "  eval_accuracy = 0\r\n",
        "  tv0 = time.time()\r\n",
        "\r\n",
        "  for v_step, v_batch in enumerate(validation_dataloader):\r\n",
        "\r\n",
        "    b_v_input_id = v_batch[0].to(device)\r\n",
        "    b_v_attention_mask = v_batch[1].to(device)\r\n",
        "    b_v_label = v_batch[2].to(device)\r\n",
        "\r\n",
        "    with torch.no_grad():\r\n",
        "      outputs = model(b_v_input_id,\r\n",
        "                      attention_mask=b_v_attention_mask)\r\n",
        "      \r\n",
        "    logits = outputs[0]\r\n",
        "\r\n",
        "    logits = logits.detach().cpu().numpy()\r\n",
        "    label_ids = b_v_label.cpu().numpy()\r\n",
        "\r\n",
        "    tmp_eval_accuracy = flat_accuracy(logits, label_ids)\r\n",
        "\r\n",
        "    eval_accuracy += tmp_eval_accuracy\r\n",
        "\r\n",
        "  average_eval_accuracy = eval_accuracy / len(validation_dataloader)\r\n",
        "  validation_accuracy_values.append(average_eval_accuracy)\r\n",
        "  #print (average_eval_accuracy)\r\n",
        "  print ('\\tValidation accuracy {0:.2f}'.format(average_eval_accuracy))\r\n",
        "  print ('\\tValidation took {:}'.format(format_time(time.time()-tv0)))\r\n",
        "\r\n",
        "print ('Training Complete!!')"
      ],
      "execution_count": 55,
      "outputs": [
        {
          "output_type": "stream",
          "text": [
            "-----------------------\n",
            "-------Training--------\n",
            "-----------------------\n",
            "==========Epoch 1/2=============\n",
            "\tBatch 0/241 in progress\n",
            "\tBatch 50/241 in progress\n",
            "\tBatch 100/241 in progress\n",
            "\tBatch 150/241 in progress\n",
            "\tBatch 200/241 in progress\n",
            "\n",
            "\tAverage training loss 0.52\n",
            "\tEpoch training time 0:00:40\n",
            "\t-----------------------\n",
            "\t-------Validation--------\n",
            "\t-----------------------\n",
            "\tValidation accuracy 0.80\n",
            "\tValidation took 0:00:01\n",
            "-----------------------\n",
            "-------Training--------\n",
            "-----------------------\n",
            "==========Epoch 2/2=============\n",
            "\tBatch 0/241 in progress\n",
            "\tBatch 50/241 in progress\n",
            "\tBatch 100/241 in progress\n",
            "\tBatch 150/241 in progress\n",
            "\tBatch 200/241 in progress\n",
            "\n",
            "\tAverage training loss 0.29\n",
            "\tEpoch training time 0:00:41\n",
            "\t-----------------------\n",
            "\t-------Validation--------\n",
            "\t-----------------------\n",
            "\tValidation accuracy 0.80\n",
            "\tValidation took 0:00:01\n",
            "Training Complete!!\n"
          ],
          "name": "stdout"
        }
      ]
    },
    {
      "cell_type": "code",
      "metadata": {
        "colab": {
          "base_uri": "https://localhost:8080/"
        },
        "id": "9wMrDiyTuRbL",
        "outputId": "d95c6aac-da69-47c0-b812-88bc91f90529"
      },
      "source": [
        "\r\n",
        "#Save model to disk\r\n",
        "import os\r\n",
        "\r\n",
        "output_dir = './output_dir'\r\n",
        "if not os.path.exists(output_dir):\r\n",
        "    os.mkdir(output_dir)\r\n",
        "\r\n",
        "model_to_save = model.module if hasattr(model, 'module') else model\r\n",
        "model_to_save.save_pretrained(output_dir)\r\n",
        "tokenizer.save_pretrained(output_dir)"
      ],
      "execution_count": 56,
      "outputs": [
        {
          "output_type": "execute_result",
          "data": {
            "text/plain": [
              "('./output_dir/tokenizer_config.json',\n",
              " './output_dir/special_tokens_map.json',\n",
              " './output_dir/vocab.txt',\n",
              " './output_dir/added_tokens.json')"
            ]
          },
          "metadata": {
            "tags": []
          },
          "execution_count": 56
        }
      ]
    },
    {
      "cell_type": "code",
      "metadata": {
        "id": "QHB6hiXauVDh"
      },
      "source": [
        "#load saved model from disk\r\n",
        "t_model = DistilBertForSequenceClassification.from_pretrained(output_dir)\r\n",
        "t_tokenizer = DistilBertTokenizer.from_pretrained(output_dir)\r\n",
        "\r\n",
        "try:\r\n",
        "    t_model.cuda()\r\n",
        "except:\r\n",
        "    print ('torch not compiled with cuda, ignore')"
      ],
      "execution_count": 57,
      "outputs": []
    },
    {
      "cell_type": "code",
      "metadata": {
        "colab": {
          "base_uri": "https://localhost:8080/"
        },
        "id": "TwX-Jq16u2sP",
        "outputId": "fe259be9-8774-4c5f-d394-8671838cba95"
      },
      "source": [
        "test_str = ['Home was gone by John']\r\n",
        "for s in test_str:\r\n",
        "  test_input_encoded = t_tokenizer.encode(s, add_special_tokens=True, max_length=64, pad_to_max_length=True)\r\n",
        "\r\n",
        "# create attention mark \r\n",
        "test_attention_masks = []\r\n",
        "\r\n",
        "for t in test_input_encoded:\r\n",
        "  if t>0:\r\n",
        "    test_attention_masks.append(1)\r\n",
        "  else:\r\n",
        "    test_attention_masks.append(0)      \r\n",
        "\r\n",
        "test_input_tensor = torch.tensor(test_input_encoded).unsqueeze(0)\r\n",
        "test_attention_masks_tensor = torch.tensor(test_attention_masks).unsqueeze(0)\r\n",
        "\r\n",
        "test_input_tensor = test_input_tensor.to(device)\r\n",
        "test_attention_masks_tensor = test_attention_masks_tensor.to(device)\r\n",
        "\r\n",
        "t_model.eval()\r\n",
        "with torch.no_grad():\r\n",
        "  t_output=t_model(test_input_tensor)  \r\n",
        "\r\n",
        "logits= t_output[0]\r\n",
        "logits=logits.cpu().numpy()\r\n",
        "print (logits)\r\n",
        "print (np.argmax(logits,axis=1).flatten())"
      ],
      "execution_count": 58,
      "outputs": [
        {
          "output_type": "stream",
          "text": [
            "Truncation was not explicitly activated but `max_length` is provided a specific value, please use `truncation=True` to explicitly truncate examples to max length. Defaulting to 'longest_first' truncation strategy. If you encode pairs of sequences (GLUE-style) with the tokenizer you can select this strategy more precisely by providing a specific strategy to `truncation`.\n"
          ],
          "name": "stderr"
        },
        {
          "output_type": "stream",
          "text": [
            "[[0.02040055 0.16851176]]\n",
            "[1]\n"
          ],
          "name": "stdout"
        },
        {
          "output_type": "stream",
          "text": [
            "/usr/local/lib/python3.6/dist-packages/transformers/tokenization_utils_base.py:2155: FutureWarning: The `pad_to_max_length` argument is deprecated and will be removed in a future version, use `padding=True` or `padding='longest'` to pad to the longest sequence in the batch, or use `padding='max_length'` to pad to a max length. In this case, you can give a specific length with `max_length` (e.g. `max_length=45`) or leave max_length to None to pad to the maximal input size of the model (e.g. 512 for Bert).\n",
            "  FutureWarning,\n"
          ],
          "name": "stderr"
        }
      ]
    }
  ]
}